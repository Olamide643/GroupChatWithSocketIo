{
 "cells": [
  {
   "cell_type": "code",
   "execution_count": 1,
   "metadata": {},
   "outputs": [],
   "source": [
    "from flask import Flask, render_template, request\n",
    "from flask_socketio import SocketIO, emit, send, join_room, leave_room"
   ]
  },
  {
   "cell_type": "code",
   "execution_count": null,
   "metadata": {},
   "outputs": [],
   "source": [
    "app = Flask(__name__)\n",
    "app.config['SECRET_KEY'] = 'include_help!'\n",
    "socketio = SocketIO(app)\n",
    "\n",
    "ROOMS = [\"class\", \"sport\", \"coding\", \"gist\"]\n",
    "\n",
    "#current_username = \"Olamide\"\n",
    "\n",
    "\n",
    "@app.route('/')\n",
    "def render():\n",
    "    return render_template(\"log.html\")\n",
    "\n",
    "@app.route('/verify', methods = ['POST'])\n",
    "def just():\n",
    "    username = request.form[\"username\"]\n",
    "    password = request.form[\"password\"]\n",
    "    return render_template(\"client.html\", rooms = ROOMS, user = username)\n",
    "\n",
    "@socketio.on('message')\n",
    "def message(data):\n",
    "    send({'message':data['message'], 'username': data['username'], 'room': data['room']})\n",
    "    \n",
    "@socketio.on('chat')\n",
    "def message(data):\n",
    "    text = data[\"username\"] + \" : \" + data[\"message\"]\n",
    "    emit(\"chit\",{'message':text, 'room': data['room']},room = data['room'])\n",
    "  \n",
    "@socketio.on('join')\n",
    "def join(data):\n",
    "    join_room(data['room'])\n",
    "    send ({\"message\": data['username'] + \" has joined the \" + data['room'] + \"room\"}, room = data['room'])\n",
    "    \n",
    "\n",
    "@socketio.on('leave')\n",
    "def join(data):\n",
    "    leave_room(data['room'])\n",
    "    send ({\"message\": data['username'] + \" has left the \" + data['room'] + \"room\"}, room = data['room'])\n",
    "    \n",
    "if __name__ == '__main__':\n",
    "    socketio.run(app)"
   ]
  },
  {
   "cell_type": "code",
   "execution_count": null,
   "metadata": {},
   "outputs": [],
   "source": []
  }
 ],
 "metadata": {
  "kernelspec": {
   "display_name": "Python 3",
   "language": "python",
   "name": "python3"
  },
  "language_info": {
   "codemirror_mode": {
    "name": "ipython",
    "version": 3
   },
   "file_extension": ".py",
   "mimetype": "text/x-python",
   "name": "python",
   "nbconvert_exporter": "python",
   "pygments_lexer": "ipython3",
   "version": "3.7.6"
  }
 },
 "nbformat": 4,
 "nbformat_minor": 4
}
